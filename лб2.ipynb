{
 "cells": [
  {
   "cell_type": "code",
   "execution_count": 3,
   "id": "1febb2fd",
   "metadata": {},
   "outputs": [
    {
     "data": {
      "image/png": "[encoded data removed]",
      "text/plain": [
       "<Figure size 432x288 with 1 Axes>"
      ]
     },
     "metadata": {
      "needs_background": "light"
     },
     "output_type": "display_data"
    }
   ],
   "source": [
    "import numpy as np\n",
    "import math\n",
    "import matplotlib.pyplot as plt\n",
    "\n",
    "def f(x):\n",
    "    return 9*x**4+12*x**3-36**2+x-2\n",
    "\n",
    "a = 1\n",
    "b = 2\n",
    "eps = 0.0001 #точність\n",
    "\n",
    "def rec_dyhotomy(a, b, eps):\n",
    "    if abs(f(b) - f(a)) < eps:\n",
    "        print('Обчислюємо корінь')\n",
    "    return\n",
    "\n",
    "mid = (a+b) / 2\n",
    "\n",
    "if f(mid) == 0 or abs(f(mid)) < eps:\n",
    "    print(f'Корінь знаходиться в точці x = {mid}')\n",
    "elif f(a)*f(mid) < 0:\n",
    "    rec_dyhotomy(a, mid, eps)\n",
    "else:\n",
    "    rec_dyhotomy(mid, b, eps)\n",
    "\n",
    "rec_dyhotomy(a, b, eps)\n",
    "\n",
    "x = np.arange(1, 2, 0.0001)\n",
    "\n",
    "plt.plot(x, f(x))\n",
    "plt.xlabel('x')\n",
    "plt.ylabel('f(x)')\n",
    "plt.title('Метод ділення навпіл')\n",
    "plt.grid()\n",
    "plt.show()"
   ]
  },
  {
   "cell_type": "code",
   "execution_count": 4,
   "id": "9369e085",
   "metadata": {},
   "outputs": [
    {
     "name": "stdout",
     "output_type": "stream",
     "text": [
      "Кореня немає\n",
      "Кореня немає\n"
     ]
    }
   ],
   "source": [
    "import numpy as np\n",
    "import matplotlib.pyplot as plt\n",
    "\n",
    "def f(x):\n",
    "    return 9*x**4 + 12*x**3 + 36*x**2 + x - 2\n",
    "\n",
    "eps = 0.0001 \n",
    "\n",
    "def rec_dyhotomy(a, b, eps):\n",
    "    if abs(f(b) - f(a)) < eps:\n",
    "        print('Кореня немає')\n",
    "        return\n",
    "    mid = (a+b) / 2\n",
    "    if f(mid) == 0 or abs(f(mid)) < eps:\n",
    "            print(f'Корінь знаходиться в точці x = {mid}')\n",
    "    elif f(a)*f(mid) < 0:\n",
    "        rec_dyhotomy(a, mid, eps)\n",
    "    else:\n",
    "        rec_dyhotomy(mid, b, eps)\n",
    "\n",
    "rec_dyhotomy(-3, -2, eps)\n",
    "rec_dyhotomy(1, 2, eps)"
   ]
  },
  {
   "cell_type": "code",
   "execution_count": 6,
   "id": "26a80fd4",
   "metadata": {},
   "outputs": [
    {
     "name": "stdout",
     "output_type": "stream",
     "text": [
      "Корінь знаходиться в точці x = 0.2143200397833062\n"
     ]
    }
   ],
   "source": [
    "from scipy.misc import derivative\n",
    "\n",
    "\n",
    "def f(x):\n",
    "    return 9*x**4 + 12*x**3 + 36*x**2 + x - 2\n",
    "\n",
    "a = 1\n",
    "b = 2\n",
    "eps = 0.0001\n",
    "\n",
    "def hord (a, b, eps):\n",
    "    if abs(b - a) < eps:\n",
    "        print('Кореня немає')\n",
    "        return\n",
    "    if (f(a)*derivative(f, a, n = 2)):\n",
    "        x0 = a\n",
    "        xi = b\n",
    "    else:\n",
    "        x0 = b\n",
    "        xi = a    \n",
    "    xi_1 = xi - (xi - x0) * f(xi)/(f(xi) - f(x0))\n",
    "    while (abs(xi_1 - xi) > eps):\n",
    "        xi = xi_1\n",
    "        xi_1 = xi-(xi - x0) * f(xi)/(f(xi) - f(x0))\n",
    "    else:\n",
    "        print(f'Корінь знаходиться в точці x =', xi_1)\n",
    "hord (a, b, eps)"
   ]
  },
  {
   "cell_type": "code",
   "execution_count": null,
   "id": "ac0a0486",
   "metadata": {},
   "outputs": [],
   "source": []
  }
 ],
 "metadata": {
  "kernelspec": {
   "display_name": "Python 3 (ipykernel)",
   "language": "python",
   "name": "python3"
  },
  "language_info": {
   "codemirror_mode": {
    "name": "ipython",
    "version": 3
   },
   "file_extension": ".py",
   "mimetype": "text/x-python",
   "name": "python",
   "nbconvert_exporter": "python",
   "pygments_lexer": "ipython3",
   "version": "3.9.12"
  }
 },
 "nbformat": 4,
 "nbformat_minor": 5
}
