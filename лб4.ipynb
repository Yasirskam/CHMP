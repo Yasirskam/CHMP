{
 "cells": [
  {
   "cell_type": "code",
   "execution_count": 1,
   "id": "cfadae37",
   "metadata": {},
   "outputs": [
    {
     "name": "stdout",
     "output_type": "stream",
     "text": [
      "[[ 7 12 15]\n",
      " [ 0  7 12]\n",
      " [ 0  0  7]]\n",
      "[[ 7 12 15]\n",
      " [ 0  7 12]\n",
      " [ 0  0  7]]\n",
      "[[0 0 0]\n",
      " [0 0 0]\n",
      " [0 0 0]]\n"
     ]
    }
   ],
   "source": [
    "import numpy as np \n",
    "\n",
    "a = np.matrix('1 1 1; 0 1 1; 0 0 1')  \n",
    "\n",
    "b = np.matrix('7 5 3; 0 7 5; 0 0 7')  \n",
    "\n",
    "c = a.dot(b)  \n",
    "\n",
    "print(c) \n",
    "\n",
    "d = b.dot(a)  \n",
    "\n",
    "print(d) \n",
    "\n",
    "g = c - d \n",
    "\n",
    "print(g) "
   ]
  },
  {
   "cell_type": "code",
   "execution_count": 2,
   "id": "a7b15eb3",
   "metadata": {},
   "outputs": [
    {
     "name": "stdout",
     "output_type": "stream",
     "text": [
      "[[1 0]\n",
      " [0 1]]\n"
     ]
    }
   ],
   "source": [
    "a = np.array([[-1, 2], [0, 1]]) \n",
    "\n",
    "power = np.linalg.matrix_power(a, 2) \n",
    "\n",
    "print(power) "
   ]
  },
  {
   "cell_type": "code",
   "execution_count": 3,
   "id": "0cf907bd",
   "metadata": {},
   "outputs": [
    {
     "name": "stdout",
     "output_type": "stream",
     "text": [
      "[[ 11 -22  29]\n",
      " [  9 -27  32]\n",
      " [ 13 -17  26]]\n"
     ]
    }
   ],
   "source": [
    "a = np.matrix('5 8 -4; 6 9 -5; 4 7 -3') \n",
    "\n",
    "b = np.matrix('3 2 5; 4 -1 3; 9 6 5') \n",
    "\n",
    "c = a.dot(b) \n",
    "\n",
    "print(c) "
   ]
  },
  {
   "cell_type": "code",
   "execution_count": 4,
   "id": "7be1bd3b",
   "metadata": {},
   "outputs": [
    {
     "name": "stdout",
     "output_type": "stream",
     "text": [
      "[[2 3 4]\n",
      " [1 0 6]\n",
      " [7 8 9]]\n"
     ]
    },
    {
     "data": {
      "text/plain": [
       "35.00000000000001"
      ]
     },
     "execution_count": 4,
     "metadata": {},
     "output_type": "execute_result"
    }
   ],
   "source": [
    "a = np.matrix('2 3 4; 1 0 6; 7 8 9') \n",
    "\n",
    "print(a) \n",
    "\n",
    "np.linalg.det(a) "
   ]
  },
  {
   "cell_type": "code",
   "execution_count": 5,
   "id": "9781371d",
   "metadata": {},
   "outputs": [
    {
     "name": "stdout",
     "output_type": "stream",
     "text": [
      "[[2 3 4 1]\n",
      " [1 2 3 4]\n",
      " [3 4 1 2]\n",
      " [4 1 2 3]]\n"
     ]
    },
    {
     "data": {
      "text/plain": [
       "-160.00000000000009"
      ]
     },
     "execution_count": 5,
     "metadata": {},
     "output_type": "execute_result"
    }
   ],
   "source": [
    "a = np.matrix('2 3 4 1; 1 2 3 4; 3 4 1 2; 4 1 2 3') \n",
    "\n",
    "print(a) \n",
    "\n",
    "np.linalg.det(a) "
   ]
  },
  {
   "cell_type": "code",
   "execution_count": 6,
   "id": "8f53d944",
   "metadata": {},
   "outputs": [
    {
     "name": "stdout",
     "output_type": "stream",
     "text": [
      "[[ 0.11111111  0.22222222  0.22222222]\n",
      " [ 0.22222222  0.11111111 -0.22222222]\n",
      " [ 0.22222222 -0.22222222  0.11111111]]\n"
     ]
    }
   ],
   "source": [
    "a = np.matrix('1 2 2; 2 1 -2; 2 -2 1') \n",
    "\n",
    "a_inv = np.linalg.inv(a) \n",
    "\n",
    "print(a_inv) "
   ]
  },
  {
   "cell_type": "code",
   "execution_count": 7,
   "id": "6a50f838",
   "metadata": {},
   "outputs": [
    {
     "name": "stdout",
     "output_type": "stream",
     "text": [
      "3\n"
     ]
    }
   ],
   "source": [
    "a = np.matrix('-2 3 1 -1; 3 2 1 4; 1 2 3 4; 0 2 3 3') \n",
    "\n",
    "rank = np.linalg.matrix_rank(a) \n",
    "\n",
    "print(rank) "
   ]
  },
  {
   "cell_type": "code",
   "execution_count": null,
   "id": "4ddae23d",
   "metadata": {},
   "outputs": [],
   "source": []
  }
 ],
 "metadata": {
  "kernelspec": {
   "display_name": "Python 3 (ipykernel)",
   "language": "python",
   "name": "python3"
  },
  "language_info": {
   "codemirror_mode": {
    "name": "ipython",
    "version": 3
   },
   "file_extension": ".py",
   "mimetype": "text/x-python",
   "name": "python",
   "nbconvert_exporter": "python",
   "pygments_lexer": "ipython3",
   "version": "3.9.12"
  }
 },
 "nbformat": 4,
 "nbformat_minor": 5
}
