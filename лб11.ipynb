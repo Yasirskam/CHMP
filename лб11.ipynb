{
 "cells": [
  {
   "cell_type": "code",
   "execution_count": 1,
   "id": "aff5d82d",
   "metadata": {},
   "outputs": [
    {
     "name": "stdout",
     "output_type": "stream",
     "text": [
      "x= [0.1 0.2 0.3 0.4 0.5 0.6 0.7 0.8 0.9 1. ]\n",
      "y= [[0.98033007 0.92513004 0.84477997 0.75354645 0.66636675 0.59619817\n",
      "  0.55248831 0.54066106 0.5621215  0.61430028]]\n",
      "mean_x= 0.55 \n",
      " mean_y= 0.7035922604003423 \n",
      " mean_xy= 0.34682941571061743 \n",
      " mean_x2= 0.38500000000000006\n",
      "Coefficients a0= 0.97 a1= -0.49\n"
     ]
    },
    {
     "data": {
      "image/png": "[encoded data removed]",
      "text/plain": [
       "<Figure size 432x288 with 1 Axes>"
      ]
     },
     "metadata": {
      "needs_background": "light"
     },
     "output_type": "display_data"
    }
   ],
   "source": [
    "import numpy as np \n",
    "\n",
    "#import pandas as pd \n",
    "\n",
    "import matplotlib.pyplot as plt \n",
    "\n",
    " \n",
    "\n",
    "def func(x): \n",
    "\n",
    "    return np.cos(np.sin(2*x)) \n",
    "\n",
    " \n",
    "\n",
    "x = np.array ([i*0.1 for i in range(1, 11 )]) # задаємо x генератором списків \n",
    "\n",
    "y = np.array([func(x)]) \n",
    "\n",
    "print ('x=',x) \n",
    "\n",
    "print ('y=',y) \n",
    "\n",
    " \n",
    "\n",
    "mean_x = np.mean(x) #середнє значення х \n",
    "\n",
    "mean_y = np.mean(y) #cереднє значення y \n",
    "\n",
    " \n",
    "\n",
    "mean_x2 = np.mean(x**2) \n",
    "\n",
    "mean_xy = np.mean (x*y) \n",
    "\n",
    " \n",
    "\n",
    "print('mean_x=', mean_x, '\\n', 'mean_y=', mean_y, '\\n', 'mean_xy=', mean_xy, '\\n', 'mean_x2=',mean_x2) \n",
    "\n",
    " \n",
    "\n",
    "a1 = (mean_xy - mean_x*mean_y)/(mean_x2-mean_x**2) \n",
    "\n",
    "a0 = mean_y - (a1* mean_x) \n",
    "\n",
    " \n",
    "\n",
    "print('Coefficients', 'a0=', round(a0,2), 'a1=', round(a1,2)) \n",
    "\n",
    " \n",
    "\n",
    "plt.plot(x, a0*x + a1, 'r', label='Fitted line') \n",
    "\n",
    "plt.scatter(x, y, label='Scatter Plot') \n",
    "\n",
    "plt.title('M N K') \n",
    "\n",
    "plt.xlabel('x') \n",
    "\n",
    "plt.ylabel('y') \n",
    "\n",
    "plt.legend() \n",
    "\n",
    "plt.show() "
   ]
  },
  {
   "cell_type": "code",
   "execution_count": null,
   "id": "121ab8ec",
   "metadata": {},
   "outputs": [],
   "source": []
  }
 ],
 "metadata": {
  "kernelspec": {
   "display_name": "Python 3 (ipykernel)",
   "language": "python",
   "name": "python3"
  },
  "language_info": {
   "codemirror_mode": {
    "name": "ipython",
    "version": 3
   },
   "file_extension": ".py",
   "mimetype": "text/x-python",
   "name": "python",
   "nbconvert_exporter": "python",
   "pygments_lexer": "ipython3",
   "version": "3.9.12"
  }
 },
 "nbformat": 4,
 "nbformat_minor": 5
}
