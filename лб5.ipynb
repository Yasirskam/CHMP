{
 "cells": [
  {
   "cell_type": "code",
   "execution_count": 1,
   "id": "7cefc65b",
   "metadata": {},
   "outputs": [
    {
     "name": "stdout",
     "output_type": "stream",
     "text": [
      "Simple iteration:\n",
      "x= 1.2056401571594697 \n",
      "y= 3.3540148102169 \n",
      "The amount of iteration =  30\n",
      "Check [ 2.0007856  -0.03964108]\n"
     ]
    }
   ],
   "source": [
    "import numpy as np \n",
    "\n",
    "from scipy import optimize \n",
    "\n",
    "from scipy.misc import derivative \n",
    "\n",
    "import math \n",
    "\n",
    " \n",
    "\n",
    "x0 = -0.5 \n",
    "\n",
    "y0 = 3.5 \n",
    "\n",
    "delta = 0.1 \n",
    "\n",
    " \n",
    "\n",
    "def f1(x): \n",
    "\n",
    "    return math.cos(x) + 3 \n",
    "\n",
    "def f2 (y): \n",
    "\n",
    "    return 0.5 - math.cos(y - 1)  \n",
    "\n",
    " \n",
    "\n",
    " \n",
    "\n",
    "def iter (x,y,e): \n",
    "\n",
    "    xn = x \n",
    "\n",
    "    yn = y \n",
    "\n",
    "    xn1 = f2(x) \n",
    "\n",
    "    yn1 = f1(y) \n",
    "\n",
    "    n = 1 \n",
    "\n",
    "    while ((abs(xn1-xn)>=e) & (abs(yn1-yn) >=e)): \n",
    "\n",
    "        xn = xn1 \n",
    "\n",
    "        yn = yn1 \n",
    "\n",
    "        xn1 = f2(yn)   \n",
    "\n",
    "        yn1 = f1(xn) \n",
    "\n",
    "        n += 1 \n",
    "\n",
    "    print ('Simple iteration:') \n",
    "\n",
    "    print ('x=', xn, '\\ny=',yn,'\\nThe amount of iteration = ',n) \n",
    "\n",
    "iter(x0,y0,0.0001) \n",
    "\n",
    " \n",
    "\n",
    " \n",
    "\n",
    "def f3(x):  \n",
    "\n",
    "    return math.cos(x[0] - 1) + x[1] - 0.5 , x[0] + math.cos(x[1]) - 3 \n",
    "\n",
    "s = optimize.root(f3, [0.,0.], method = 'hybr') \n",
    "\n",
    "print ('Check',s.x) "
   ]
  },
  {
   "cell_type": "code",
   "execution_count": null,
   "id": "5cb50ff2",
   "metadata": {},
   "outputs": [],
   "source": []
  }
 ],
 "metadata": {
  "kernelspec": {
   "display_name": "Python 3 (ipykernel)",
   "language": "python",
   "name": "python3"
  },
  "language_info": {
   "codemirror_mode": {
    "name": "ipython",
    "version": 3
   },
   "file_extension": ".py",
   "mimetype": "text/x-python",
   "name": "python",
   "nbconvert_exporter": "python",
   "pygments_lexer": "ipython3",
   "version": "3.9.12"
  }
 },
 "nbformat": 4,
 "nbformat_minor": 5
}
