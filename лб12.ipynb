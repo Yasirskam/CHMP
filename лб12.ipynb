{
 "cells": [
  {
   "cell_type": "code",
   "execution_count": 1,
   "id": "255c59d2",
   "metadata": {},
   "outputs": [
    {
     "name": "stdout",
     "output_type": "stream",
     "text": [
      "right rectangle: 0.57744\n",
      "average rectangle: 0.59001\n",
      "Check for the rectangle method=  0.58366\n"
     ]
    }
   ],
   "source": [
    "from scipy import integrate \n",
    "\n",
    "import math \n",
    "\n",
    "eps = 0.0001 \n",
    "\n",
    " \n",
    "\n",
    "def f1(x): \n",
    "\n",
    "    return 1/math.sqrt(x+1) \n",
    "\n",
    " \n",
    "\n",
    "def left_rec(f1,a,b,n): \n",
    "\n",
    "    h=(b-a)/n \n",
    "\n",
    "    sum=0 \n",
    "\n",
    "    for i in range(0,n): \n",
    "\n",
    "        sum+=f1(a+i*h) \n",
    "\n",
    "    return sum*h \n",
    "\n",
    " \n",
    "\n",
    "v,err = integrate.quad(f1, 0.5, 1.3)#Перевірка \n",
    "\n",
    " \n",
    "\n",
    "#Перевірка точності за правилом Рунге: \n",
    "\n",
    " \n",
    "\n",
    "if abs(left_rec(f1, 2, 3.5, 2*10) - left_rec(f1, 0.5, 1.3, 10))/3. <=eps: \n",
    "\n",
    "    print(\"left rectangle:\",round (left_rec(f1, 0.5, 1.3, 10), 5)) \n",
    "\n",
    " \n",
    "\n",
    "def right_rec(f1,a,b,n): \n",
    "\n",
    "    h=(b-a)/n \n",
    "\n",
    "    sum=0 \n",
    "\n",
    "    for i in range(1,n+1): \n",
    "\n",
    "        sum+=f1(a+i*h) \n",
    "\n",
    "    return sum*h \n",
    "\n",
    " \n",
    "\n",
    "print(\"right rectangle:\",round (right_rec(f1, 0.5, 1.3, 10), 5)) \n",
    "\n",
    " \n",
    "\n",
    "def aver_rec(f1,a,b,n): \n",
    "\n",
    "    h=(b-a)/n \n",
    "\n",
    "    sum=0 \n",
    "\n",
    "    for i in range(0,n): \n",
    "\n",
    "        sum+=f1(a+i*h) \n",
    "\n",
    "    return sum*h \n",
    "\n",
    " \n",
    "\n",
    "print(\"average rectangle:\",round (aver_rec(f1, 0.5, 1.3, 10), 5)) \n",
    "\n",
    "print(\"Check for the rectangle method= \",round (v, 5)) "
   ]
  },
  {
   "cell_type": "code",
   "execution_count": null,
   "id": "388f3d01",
   "metadata": {},
   "outputs": [],
   "source": []
  }
 ],
 "metadata": {
  "kernelspec": {
   "display_name": "Python 3 (ipykernel)",
   "language": "python",
   "name": "python3"
  },
  "language_info": {
   "codemirror_mode": {
    "name": "ipython",
    "version": 3
   },
   "file_extension": ".py",
   "mimetype": "text/x-python",
   "name": "python",
   "nbconvert_exporter": "python",
   "pygments_lexer": "ipython3",
   "version": "3.9.12"
  }
 },
 "nbformat": 4,
 "nbformat_minor": 5
}
